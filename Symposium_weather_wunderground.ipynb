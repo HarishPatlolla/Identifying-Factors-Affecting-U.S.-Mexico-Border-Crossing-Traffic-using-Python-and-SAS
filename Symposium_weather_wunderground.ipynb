{
 "cells": [
  {
   "cell_type": "code",
   "execution_count": 1,
   "metadata": {},
   "outputs": [],
   "source": [
    "import pandas as pd\n",
    "import os\n",
    "from lxml import html\n",
    "from lxml import etree\n",
    "import requests \n",
    "import urllib3\n",
    "os.chdir('D:\\Sunny_Personal\\OSU MSBA\\Fall 2019\\BehaviouralLab')"
   ]
  },
  {
   "cell_type": "code",
   "execution_count": 2,
   "metadata": {},
   "outputs": [],
   "source": [
    "from selenium import webdriver\n",
    "from bs4 import BeautifulSoup\n",
    "from selenium.webdriver.support.ui import WebDriverWait\n",
    "from selenium.webdriver.support import expected_conditions as EC\n",
    "from selenium.webdriver.common.by import By\n",
    "import pandas as pd\n",
    "import os\n",
    "os.chdir('D:\\Sunny_Personal\\OSU MSBA\\Fall 2019\\Symposium\\Border-Traffic')\n",
    "weather=pd.read_excel('Weather_url.xlsx')\n",
    "weather_list=weather['URL'].tolist()"
   ]
  },
  {
   "cell_type": "code",
   "execution_count": 21,
   "metadata": {},
   "outputs": [
    {
     "data": {
      "text/plain": [
       "'https://www.wunderground.com/history/monthly/us/me/caribou/KPQI'"
      ]
     },
     "execution_count": 21,
     "metadata": {},
     "output_type": "execute_result"
    }
   ],
   "source": [
    "weather_list[1]\n",
    "\n",
    "2010,2011,2012,2013,2014,2015,2016,2017,2018,2019"
   ]
  },
  {
   "cell_type": "code",
   "execution_count": 21,
   "metadata": {},
   "outputs": [
    {
     "ename": "AttributeError",
     "evalue": "'WebDriver' object has no attribute 'manage'",
     "output_type": "error",
     "traceback": [
      "\u001b[1;31m---------------------------------------------------------------------------\u001b[0m",
      "\u001b[1;31mAttributeError\u001b[0m                            Traceback (most recent call last)",
      "\u001b[1;32m<ipython-input-21-11735d06a91c>\u001b[0m in \u001b[0;36m<module>\u001b[1;34m\u001b[0m\n\u001b[0;32m      1\u001b[0m \u001b[0mos\u001b[0m\u001b[1;33m.\u001b[0m\u001b[0mchdir\u001b[0m\u001b[1;33m(\u001b[0m\u001b[1;34m'D:\\Sunny_Personal\\OSU MSBA\\Fall 2019\\BehaviouralLab'\u001b[0m\u001b[1;33m)\u001b[0m\u001b[1;33m\u001b[0m\u001b[1;33m\u001b[0m\u001b[0m\n\u001b[0;32m      2\u001b[0m \u001b[0mdriver\u001b[0m \u001b[1;33m=\u001b[0m \u001b[0mwebdriver\u001b[0m\u001b[1;33m.\u001b[0m\u001b[0mChrome\u001b[0m\u001b[1;33m(\u001b[0m\u001b[1;34m\"chromedriver\"\u001b[0m\u001b[1;33m)\u001b[0m\u001b[1;33m\u001b[0m\u001b[1;33m\u001b[0m\u001b[0m\n\u001b[1;32m----> 3\u001b[1;33m \u001b[0mdriver\u001b[0m\u001b[1;33m.\u001b[0m\u001b[0mmanage\u001b[0m\u001b[1;33m(\u001b[0m\u001b[1;33m)\u001b[0m\u001b[1;33m.\u001b[0m\u001b[0mtimeouts\u001b[0m\u001b[1;33m(\u001b[0m\u001b[1;33m)\u001b[0m\u001b[1;33m.\u001b[0m\u001b[0mimplicitlyWait\u001b[0m\u001b[1;33m(\u001b[0m\u001b[1;33m)\u001b[0m\u001b[1;33m\u001b[0m\u001b[1;33m\u001b[0m\u001b[0m\n\u001b[0m\u001b[0;32m      4\u001b[0m \u001b[0mTemperature\u001b[0m\u001b[1;33m=\u001b[0m\u001b[1;33m[\u001b[0m\u001b[1;33m]\u001b[0m\u001b[1;33m\u001b[0m\u001b[1;33m\u001b[0m\u001b[0m\n\u001b[0;32m      5\u001b[0m \u001b[1;32mfor\u001b[0m \u001b[0mi\u001b[0m \u001b[1;32min\u001b[0m \u001b[1;33m[\u001b[0m\u001b[1;36m2019\u001b[0m\u001b[1;33m]\u001b[0m\u001b[1;33m:\u001b[0m\u001b[1;33m\u001b[0m\u001b[1;33m\u001b[0m\u001b[0m\n",
      "\u001b[1;31mAttributeError\u001b[0m: 'WebDriver' object has no attribute 'manage'"
     ]
    }
   ],
   "source": [
    "os.chdir('D:\\Sunny_Personal\\OSU MSBA\\Fall 2019\\BehaviouralLab')\n",
    "driver = webdriver.Chrome(\"chromedriver\")\n",
    "driver.manage().timeouts().implicitlyWait()\n",
    "Temperature=[]\n",
    "for i in [2019]:\n",
    "    for j in [1,2,3,4,5,6,7,8,9,10,11,12]:\n",
    "        Month= str(i)+str('-')+str(j)\n",
    "        for k in ['https://www.wunderground.com/history/monthly/us/ca/san-diego/KSAN']:\n",
    "            #weather_url=weather_list[k]+str('/')+str('date/')+str(Month)\n",
    "            weather_url=str(k)+str('/')+str('date/')+str(Month)\n",
    "            driver.get(weather_url)\n",
    "            try :\n",
    "                content = driver.page_source\n",
    "                soup = BeautifulSoup(content)\n",
    "                tables = soup.find_all('td')\n",
    "                #Extracting the temperatures\n",
    "                tr_temp1=str(tables[7])\n",
    "                tr_temp2=str(tables[8])\n",
    "                tr_temp3=str(tables[9])\n",
    "                #Cleaning the values\n",
    "                temp1=tr_temp1.replace(r'<td _ngcontent-c7=\"\">',r' ')\n",
    "                temp2=temp1.replace(r'</td>',r' ')\n",
    "                temp3=temp2.strip()\n",
    "                temp4=tr_temp2.replace(r'<td _ngcontent-c7=\"\">',r' ')\n",
    "                temp5=temp4.replace(r'</td>',r' ')\n",
    "                temp6=temp5.strip()\n",
    "                temp7=tr_temp3.replace(r'<td _ngcontent-c7=\"\">',r' ')\n",
    "                temp8=temp7.replace(r'</td>',r' ')\n",
    "                temp9=temp8.strip()\n",
    "                print(Month,temp3,temp6,temp9)   \n",
    "                #appending it to the dataframe\n",
    "#               Temperature.append([Month,weather_list[k],temp3,temp6,temp9])\n",
    "\n",
    "            except IndexError:\n",
    "                  print('data not found')\n",
    "#                 Temperature.append([Month,weather_list[k],'NA','NA','NA'])"
   ]
  },
  {
   "cell_type": "code",
   "execution_count": 15,
   "metadata": {},
   "outputs": [
    {
     "data": {
      "text/html": [
       "<div>\n",
       "<style scoped>\n",
       "    .dataframe tbody tr th:only-of-type {\n",
       "        vertical-align: middle;\n",
       "    }\n",
       "\n",
       "    .dataframe tbody tr th {\n",
       "        vertical-align: top;\n",
       "    }\n",
       "\n",
       "    .dataframe thead th {\n",
       "        text-align: right;\n",
       "    }\n",
       "</style>\n",
       "<table border=\"1\" class=\"dataframe\">\n",
       "  <thead>\n",
       "    <tr style=\"text-align: right;\">\n",
       "      <th></th>\n",
       "      <th>0</th>\n",
       "      <th>1</th>\n",
       "      <th>2</th>\n",
       "      <th>3</th>\n",
       "      <th>4</th>\n",
       "    </tr>\n",
       "  </thead>\n",
       "  <tbody>\n",
       "    <tr>\n",
       "      <th>0</th>\n",
       "      <td>2019-1</td>\n",
       "      <td>https://www.wunderground.com/history/monthly/u...</td>\n",
       "      <td>NA</td>\n",
       "      <td>NA</td>\n",
       "      <td>NA</td>\n",
       "    </tr>\n",
       "    <tr>\n",
       "      <th>1</th>\n",
       "      <td>2019-2</td>\n",
       "      <td>https://www.wunderground.com/history/monthly/u...</td>\n",
       "      <td>NA</td>\n",
       "      <td>NA</td>\n",
       "      <td>NA</td>\n",
       "    </tr>\n",
       "    <tr>\n",
       "      <th>2</th>\n",
       "      <td>2019-3</td>\n",
       "      <td>https://www.wunderground.com/history/monthly/u...</td>\n",
       "      <td>NA</td>\n",
       "      <td>NA</td>\n",
       "      <td>NA</td>\n",
       "    </tr>\n",
       "    <tr>\n",
       "      <th>3</th>\n",
       "      <td>2019-4</td>\n",
       "      <td>https://www.wunderground.com/history/monthly/u...</td>\n",
       "      <td>NA</td>\n",
       "      <td>NA</td>\n",
       "      <td>NA</td>\n",
       "    </tr>\n",
       "    <tr>\n",
       "      <th>4</th>\n",
       "      <td>2019-5</td>\n",
       "      <td>https://www.wunderground.com/history/monthly/u...</td>\n",
       "      <td>NA</td>\n",
       "      <td>NA</td>\n",
       "      <td>NA</td>\n",
       "    </tr>\n",
       "    <tr>\n",
       "      <th>5</th>\n",
       "      <td>2019-6</td>\n",
       "      <td>https://www.wunderground.com/history/monthly/u...</td>\n",
       "      <td>NA</td>\n",
       "      <td>NA</td>\n",
       "      <td>NA</td>\n",
       "    </tr>\n",
       "    <tr>\n",
       "      <th>6</th>\n",
       "      <td>2019-7</td>\n",
       "      <td>https://www.wunderground.com/history/monthly/u...</td>\n",
       "      <td>NA</td>\n",
       "      <td>NA</td>\n",
       "      <td>NA</td>\n",
       "    </tr>\n",
       "    <tr>\n",
       "      <th>7</th>\n",
       "      <td>2019-8</td>\n",
       "      <td>https://www.wunderground.com/history/monthly/u...</td>\n",
       "      <td>NA</td>\n",
       "      <td>NA</td>\n",
       "      <td>NA</td>\n",
       "    </tr>\n",
       "    <tr>\n",
       "      <th>8</th>\n",
       "      <td>2019-9</td>\n",
       "      <td>https://www.wunderground.com/history/monthly/u...</td>\n",
       "      <td>NA</td>\n",
       "      <td>NA</td>\n",
       "      <td>NA</td>\n",
       "    </tr>\n",
       "    <tr>\n",
       "      <th>9</th>\n",
       "      <td>2019-10</td>\n",
       "      <td>https://www.wunderground.com/history/monthly/u...</td>\n",
       "      <td>NA</td>\n",
       "      <td>NA</td>\n",
       "      <td>NA</td>\n",
       "    </tr>\n",
       "    <tr>\n",
       "      <th>10</th>\n",
       "      <td>2019-11</td>\n",
       "      <td>https://www.wunderground.com/history/monthly/u...</td>\n",
       "      <td>NA</td>\n",
       "      <td>NA</td>\n",
       "      <td>NA</td>\n",
       "    </tr>\n",
       "    <tr>\n",
       "      <th>11</th>\n",
       "      <td>2019-12</td>\n",
       "      <td>https://www.wunderground.com/history/monthly/u...</td>\n",
       "      <td>NA</td>\n",
       "      <td>NA</td>\n",
       "      <td>NA</td>\n",
       "    </tr>\n",
       "  </tbody>\n",
       "</table>\n",
       "</div>"
      ],
      "text/plain": [
       "          0                                                  1   2   3   4\n",
       "0    2019-1  https://www.wunderground.com/history/monthly/u...  NA  NA  NA\n",
       "1    2019-2  https://www.wunderground.com/history/monthly/u...  NA  NA  NA\n",
       "2    2019-3  https://www.wunderground.com/history/monthly/u...  NA  NA  NA\n",
       "3    2019-4  https://www.wunderground.com/history/monthly/u...  NA  NA  NA\n",
       "4    2019-5  https://www.wunderground.com/history/monthly/u...  NA  NA  NA\n",
       "5    2019-6  https://www.wunderground.com/history/monthly/u...  NA  NA  NA\n",
       "6    2019-7  https://www.wunderground.com/history/monthly/u...  NA  NA  NA\n",
       "7    2019-8  https://www.wunderground.com/history/monthly/u...  NA  NA  NA\n",
       "8    2019-9  https://www.wunderground.com/history/monthly/u...  NA  NA  NA\n",
       "9   2019-10  https://www.wunderground.com/history/monthly/u...  NA  NA  NA\n",
       "10  2019-11  https://www.wunderground.com/history/monthly/u...  NA  NA  NA\n",
       "11  2019-12  https://www.wunderground.com/history/monthly/u...  NA  NA  NA"
      ]
     },
     "execution_count": 15,
     "metadata": {},
     "output_type": "execute_result"
    }
   ],
   "source": [
    "Temperature_df=pd.DataFrame(Temperature)\n",
    "Temperature_df"
   ]
  },
  {
   "cell_type": "code",
   "execution_count": null,
   "metadata": {},
   "outputs": [],
   "source": []
  },
  {
   "cell_type": "code",
   "execution_count": 46,
   "metadata": {},
   "outputs": [],
   "source": [
    "os.chdir('D:\\Sunny_Personal\\OSU MSBA\\Fall 2019\\Symposium\\Border-Traffic')\n",
    "Temperature_df.to_csv('Symposium_Weather.csv',index=False)"
   ]
  }
 ],
 "metadata": {
  "kernelspec": {
   "display_name": "Python 3",
   "language": "python",
   "name": "python3"
  },
  "language_info": {
   "codemirror_mode": {
    "name": "ipython",
    "version": 3
   },
   "file_extension": ".py",
   "mimetype": "text/x-python",
   "name": "python",
   "nbconvert_exporter": "python",
   "pygments_lexer": "ipython3",
   "version": "3.7.1"
  }
 },
 "nbformat": 4,
 "nbformat_minor": 2
}
