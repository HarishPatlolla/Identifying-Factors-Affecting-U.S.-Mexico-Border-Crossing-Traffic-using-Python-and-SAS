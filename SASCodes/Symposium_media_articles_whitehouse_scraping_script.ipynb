{
 "cells": [
  {
   "cell_type": "code",
   "execution_count": 1,
   "metadata": {},
   "outputs": [],
   "source": [
    "import pandas as pd\n",
    "import os\n",
    "from lxml import html\n",
    "from lxml import etree\n",
    "import requests \n",
    "import urllib3\n",
    "os.chdir('D:\\Sunny_Personal\\OSU MSBA\\Fall 2019\\BehaviouralLab')"
   ]
  },
  {
   "cell_type": "code",
   "execution_count": 45,
   "metadata": {},
   "outputs": [],
   "source": [
    "from selenium import webdriver\n",
    "from bs4 import BeautifulSoup\n",
    "import pandas as pd\n",
    "article_url_df=[]\n",
    "article_url_fin=[]\n",
    "Articles=[]"
   ]
  },
  {
   "cell_type": "code",
   "execution_count": 46,
   "metadata": {},
   "outputs": [],
   "source": [
    "#Configure chrome driver#\n",
    "driver = webdriver.Chrome(\"chromedriver\")\n",
    "\n",
    "for i in range(1,83):\n",
    "        main_page_url = \"https://www.whitehouse.gov/search/?paged=\"+str(i)+\"&s=immigration\"\n",
    "        resp = requests.get(main_page_url)\n",
    "        tagtree = html.fromstring(resp.content)\n",
    "        #Extract the media links\n",
    "        xp1 = '//h2[@class=\"briefing-statement__title\"]/a/@href'\n",
    "        article_url = tagtree.xpath(xp1)\n",
    "        article_url_df.append(article_url)"
   ]
  },
  {
   "cell_type": "code",
   "execution_count": 47,
   "metadata": {},
   "outputs": [],
   "source": [
    "for i in range(len(article_url_df)):\n",
    "        for j in range(len(article_url_df[i])):\n",
    "            article_url_fin.append(article_url_df[i][j])"
   ]
  },
  {
   "cell_type": "code",
   "execution_count": 48,
   "metadata": {},
   "outputs": [],
   "source": [
    "for i in range(len(article_url_fin)):\n",
    "        main_page_url = article_url_fin[i]\n",
    "        resp = requests.get(main_page_url)\n",
    "        tagtree = html.fromstring(resp.content)\n",
    "        #title\n",
    "        xp1 = '//div[@class=\"meta meta--mobile-wrap\"]/p/time/text()'\n",
    "        xp2=  '//div[@class=\"page-content__content editor\"]/p/text()'\n",
    "        Date_of_issue = tagtree.xpath(xp1)\n",
    "        Text_info = tagtree.xpath(xp2)\n",
    "        Articles.append([i,main_page_url,Date_of_issue,Text_info])"
   ]
  },
  {
   "cell_type": "code",
   "execution_count": 49,
   "metadata": {},
   "outputs": [],
   "source": [
    "Articles_df=pd.DataFrame(Articles)\n",
    "pd.set_option('display.max_colwidth', -1)\n",
    "Articles_df.columns=['ID','Url','Date','Article_Text']"
   ]
  },
  {
   "cell_type": "code",
   "execution_count": 60,
   "metadata": {},
   "outputs": [
    {
     "data": {
      "text/html": [
       "<div>\n",
       "<style scoped>\n",
       "    .dataframe tbody tr th:only-of-type {\n",
       "        vertical-align: middle;\n",
       "    }\n",
       "\n",
       "    .dataframe tbody tr th {\n",
       "        vertical-align: top;\n",
       "    }\n",
       "\n",
       "    .dataframe thead th {\n",
       "        text-align: right;\n",
       "    }\n",
       "</style>\n",
       "<table border=\"1\" class=\"dataframe\">\n",
       "  <thead>\n",
       "    <tr style=\"text-align: right;\">\n",
       "      <th></th>\n",
       "      <th>ID</th>\n",
       "      <th>Url</th>\n",
       "      <th>Date</th>\n",
       "      <th>Article_Text</th>\n",
       "    </tr>\n",
       "  </thead>\n",
       "  <tbody>\n",
       "    <tr>\n",
       "      <th>0</th>\n",
       "      <td>0</td>\n",
       "      <td>https://www.whitehouse.gov/briefings-statements/washington-examiner-trumps-immigration-deal-well-real-deal/</td>\n",
       "      <td>[February 1, 2018]</td>\n",
       "      <td>[\\nEditorial, \\nWashington Examiner, \\nFebruary 1, 2018, …, America’s immigration policy has long been the world’s most generous, even without counting the large number of illegal immigrants who have come here and not been deported. But no country is obliged to take anyone and everyone who wants to enter., Free people have a right to determine, through democratic processes, who can enter and live in their country, and to do so based on their own interests. Despite what Democrats tell you, the public agrees with President Trump in this particular and on immigration in broad terms, even if not in all particulars., More than 70 percent of Americans who watched Trump’s State of the Union speech Tuesday said they favored the basic immigration proposals that the president laid out. These are, first, a path to citizenship for those covered by former President Barack Obama’s policy for “Dreamers,” illegal immigrants brought to the U.S. as children; second, funding for border security, including a wall; third, reforming the pathways by which immigrants lawfully enter the U.S., This is a good deal, which both parties in Congress should accept., …, It is about time the U.S. returned to using a democratic process to make immigration policy according to reason and self-interest, rather than conducting show trials in the media about which positions are politically correct enough to be espoused in public., …]</td>\n",
       "    </tr>\n",
       "    <tr>\n",
       "      <th>1</th>\n",
       "      <td>1</td>\n",
       "      <td>https://www.whitehouse.gov/briefings-statements/polling-americans-overwhelmingly-support-president-trumps-commonsense-immigration-reforms/</td>\n",
       "      <td>[February 14, 2018]</td>\n",
       "      <td>[]</td>\n",
       "    </tr>\n",
       "    <tr>\n",
       "      <th>2</th>\n",
       "      <td>2</td>\n",
       "      <td>https://www.whitehouse.gov/briefings-statements/trump-administration-immigration-policy-priorities/</td>\n",
       "      <td>[October 8, 2017]</td>\n",
       "      <td>[The Trump Administration is ready to work with Congress to achieve three immigration policy objectives to ensure safe and lawful admissions; defend the safety and security of our country; and protect American workers and taxpayers.]</td>\n",
       "    </tr>\n",
       "    <tr>\n",
       "      <th>3</th>\n",
       "      <td>3</td>\n",
       "      <td>https://www.whitehouse.gov/briefings-statements/common-sense-immigration-reform-keeps-families-together/</td>\n",
       "      <td>[January 31, 2018]</td>\n",
       "      <td>[ ]</td>\n",
       "    </tr>\n",
       "    <tr>\n",
       "      <th>4</th>\n",
       "      <td>4</td>\n",
       "      <td>https://www.whitehouse.gov/briefings-statements/responsible-immigration-reform-will-secure-borders/</td>\n",
       "      <td>[February 2, 2018]</td>\n",
       "      <td>[]</td>\n",
       "    </tr>\n",
       "  </tbody>\n",
       "</table>\n",
       "</div>"
      ],
      "text/plain": [
       "   ID  \\\n",
       "0  0    \n",
       "1  1    \n",
       "2  2    \n",
       "3  3    \n",
       "4  4    \n",
       "\n",
       "                                                                                                                                          Url  \\\n",
       "0  https://www.whitehouse.gov/briefings-statements/washington-examiner-trumps-immigration-deal-well-real-deal/                                  \n",
       "1  https://www.whitehouse.gov/briefings-statements/polling-americans-overwhelmingly-support-president-trumps-commonsense-immigration-reforms/   \n",
       "2  https://www.whitehouse.gov/briefings-statements/trump-administration-immigration-policy-priorities/                                          \n",
       "3  https://www.whitehouse.gov/briefings-statements/common-sense-immigration-reform-keeps-families-together/                                     \n",
       "4  https://www.whitehouse.gov/briefings-statements/responsible-immigration-reform-will-secure-borders/                                          \n",
       "\n",
       "                  Date  \\\n",
       "0  [February 1, 2018]    \n",
       "1  [February 14, 2018]   \n",
       "2  [October 8, 2017]     \n",
       "3  [January 31, 2018]    \n",
       "4  [February 2, 2018]    \n",
       "\n",
       "                                                                                                                                                                                                                                                                                                                                                                                                                                                                                                                                                                                                                                                                                                                                                                                                                                                                                                                                                                                                                                                                                                                                                                                                                                                                                                                                                                                                                                                                Article_Text  \n",
       "0  [\\nEditorial, \\nWashington Examiner, \\nFebruary 1, 2018, …, America’s immigration policy has long been the world’s most generous, even without counting the large number of illegal immigrants who have come here and not been deported. But no country is obliged to take anyone and everyone who wants to enter., Free people have a right to determine, through democratic processes, who can enter and live in their country, and to do so based on their own interests. Despite what Democrats tell you, the public agrees with President Trump in this particular and on immigration in broad terms, even if not in all particulars., More than 70 percent of Americans who watched Trump’s State of the Union speech Tuesday said they favored the basic immigration proposals that the president laid out. These are, first, a path to citizenship for those covered by former President Barack Obama’s policy for “Dreamers,” illegal immigrants brought to the U.S. as children; second, funding for border security, including a wall; third, reforming the pathways by which immigrants lawfully enter the U.S., This is a good deal, which both parties in Congress should accept., …, It is about time the U.S. returned to using a democratic process to make immigration policy according to reason and self-interest, rather than conducting show trials in the media about which positions are politically correct enough to be espoused in public., …]  \n",
       "1  []                                                                                                                                                                                                                                                                                                                                                                                                                                                                                                                                                                                                                                                                                                                                                                                                                                                                                                                                                                                                                                                                                                                                                                                                                                                                                                                                                                                                                                                                         \n",
       "2  [The Trump Administration is ready to work with Congress to achieve three immigration policy objectives to ensure safe and lawful admissions; defend the safety and security of our country; and protect American workers and taxpayers.]                                                                                                                                                                                                                                                                                                                                                                                                                                                                                                                                                                                                                                                                                                                                                                                                                                                                                                                                                                                                                                                                                                                                                                                                                                  \n",
       "3  [ ]                                                                                                                                                                                                                                                                                                                                                                                                                                                                                                                                                                                                                                                                                                                                                                                                                                                                                                                                                                                                                                                                                                                                                                                                                                                                                                                                                                                                                                                                        \n",
       "4  []                                                                                                                                                                                                                                                                                                                                                                                                                                                                                                                                                                                                                                                                                                                                                                                                                                                                                                                                                                                                                                                                                                                                                                                                                                                                                                                                                                                                                                                                         "
      ]
     },
     "execution_count": 60,
     "metadata": {},
     "output_type": "execute_result"
    }
   ],
   "source": [
    "Articles_df.head()"
   ]
  },
  {
   "cell_type": "code",
   "execution_count": 102,
   "metadata": {},
   "outputs": [],
   "source": [
    "Articles_df.to_csv('Media_Articles_Immigration.csv',index=False)"
   ]
  }
 ],
 "metadata": {
  "kernelspec": {
   "display_name": "Python 3",
   "language": "python",
   "name": "python3"
  },
  "language_info": {
   "codemirror_mode": {
    "name": "ipython",
    "version": 3
   },
   "file_extension": ".py",
   "mimetype": "text/x-python",
   "name": "python",
   "nbconvert_exporter": "python",
   "pygments_lexer": "ipython3",
   "version": "3.7.1"
  }
 },
 "nbformat": 4,
 "nbformat_minor": 2
}
