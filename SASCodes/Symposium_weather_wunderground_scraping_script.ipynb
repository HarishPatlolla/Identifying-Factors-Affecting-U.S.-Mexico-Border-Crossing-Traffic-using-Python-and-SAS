{
 "cells": [
  {
   "cell_type": "code",
   "execution_count": 41,
   "metadata": {},
   "outputs": [],
   "source": [
    "import pandas as pd\n",
    "import os\n",
    "from lxml import html\n",
    "from lxml import etree\n",
    "import requests \n",
    "import urllib3\n",
    "os.chdir('D:\\Sunny_Personal\\OSU MSBA\\Fall 2019\\BehaviouralLab')\n",
    "from selenium import webdriver\n",
    "from bs4 import BeautifulSoup\n",
    "from selenium.webdriver.support.ui import WebDriverWait\n",
    "import pandas as pd\n",
    "import os\n",
    "os.chdir('D:\\Sunny_Personal\\OSU MSBA\\Fall 2019\\Symposium\\Border-Traffic')\n",
    "weather=pd.read_excel('Weather_url.xlsx')\n",
    "weather_list=weather['URL'].tolist()\n",
    "months_list=['2009-01','2010-01','2011-01','2012-01','2013-01','2014-01','2015-01','2016-01','2017-01','2018-01','2019-01',\n",
    "'2009-02','2010-02','2011-02','2012-02','2013-02','2014-02','2015-02','2016-02','2017-02','2018-02','2019-02',\n",
    "'2009-03','2010-03','2011-03','2012-03','2013-03','2014-03','2015-03','2016-03','2017-03','2018-03','2019-03',\n",
    "'2009-04','2010-04','2011-04','2012-04','2013-04','2014-04','2015-04','2016-04','2017-04','2018-04','2019-04',\n",
    "'2009-05','2010-05','2011-05','2012-05','2013-05','2014-05','2015-05','2016-05','2017-05','2018-05','2019-05',\n",
    "'2009-06','2010-06','2011-06','2012-06','2013-06','2014-06','2015-06','2016-06','2017-06','2018-06','2019-06',\n",
    "'2009-07','2010-07','2011-07','2012-07','2013-07','2014-07','2015-07','2016-07','2017-07','2018-07','2019-07',\n",
    "'2009-08','2010-08','2011-08','2012-08','2013-08','2014-08','2015-08','2016-08','2017-08','2018-08','2019-08',\n",
    "'2009-09','2010-09','2011-09','2012-09','2013-09','2014-09','2015-09','2016-09','2017-09','2018-09','2019-09',\n",
    "'2009-10','2010-10','2011-10','2012-10','2013-10','2014-10','2015-10','2016-10','2017-10','2018-10','2019-10',\n",
    "'2009-11','2010-11','2011-11','2012-11','2013-11','2014-11','2015-11','2016-11','2017-11','2018-11',\n",
    "'2009-12','2010-12','2011-12','2012-12','2013-12','2014-12','2015-12','2016-12','2017-12','2018-12']"
   ]
  },
  {
   "cell_type": "code",
   "execution_count": null,
   "metadata": {},
   "outputs": [
    {
     "name": "stdout",
     "output_type": "stream",
     "text": [
      "2009-01\n",
      "imperial 72.48 67.37 57.71\n",
      "presque-isle 53.48 29.79 15.26\n",
      "san-diego 67.28 63.2 61.12\n",
      "nogales 65.42 62.15 56.75\n",
      "cornwall 49.95 38.12 23.21\n",
      "madawaska 53.48 29.79 15.26\n",
      "pembina 33.53 19.35 2.63\n",
      "mcallen 79.36 63.2 40.74\n"
     ]
    }
   ],
   "source": [
    "\n",
    "os.chdir('D:\\Sunny_Personal\\OSU MSBA\\Fall 2019\\BehaviouralLab')\n",
    "#driver = webdriver.Chrome(\"chromedriver\")\n",
    "from selenium import webdriver\n",
    "driver = webdriver.Firefox()\n",
    "driver.implicitly_wait(40)\n",
    "Temperature=[]\n",
    "for i in range(len(months_list)):\n",
    "        print(months_list[i])\n",
    "        #for k in ['https://www.wunderground.com/history/monthly/us/ca/san-diego/KSAN']:\n",
    "        for k in range(len(weather_list)):\n",
    "            weather_url=weather_list[k]+str('/')+months_list[i]\n",
    "            place=str(weather_url).split('/')[7]\n",
    "            driver.get(weather_url)\n",
    "            try :\n",
    "                content = driver.page_source\n",
    "                soup = BeautifulSoup(content)\n",
    "                tables = soup.find_all('td')\n",
    "                #Extracting the temperatures\n",
    "                tr_temp1=str(tables[7])\n",
    "                tr_temp2=str(tables[8])\n",
    "                tr_temp3=str(tables[9])\n",
    "                #Cleaning the values\n",
    "                temp1=tr_temp1.replace(r'<td _ngcontent-app-root-c8=\"\" class=\"ng-star-inserted\">',r' ')\n",
    "                temp2=temp1.replace(r'</td>',r' ')\n",
    "                temp3=temp2.strip()\n",
    "                temp4=tr_temp2.replace(r'<td _ngcontent-app-root-c8=\"\" class=\"ng-star-inserted\">',r' ')\n",
    "                temp5=temp4.replace(r'</td>',r' ')\n",
    "                temp6=temp5.strip()\n",
    "                temp7=tr_temp3.replace(r'<td _ngcontent-app-root-c8=\"\" class=\"ng-star-inserted\">',r' ')\n",
    "                temp8=temp7.replace(r'</td>',r' ')\n",
    "                temp9=temp8.strip()\n",
    "                print(place,temp3,temp6,temp9)\n",
    "                #appending it to the dataframe\n",
    "                Temperature.append([months_list[i],place,weather_list[k],temp3,temp6,temp9])\n",
    "            except IndexError:\n",
    "                print(place,'na','na','na')\n",
    "                Temperature.append([months_list[i],place,weather_list[k],'NA','NA','NA'])"
   ]
  },
  {
   "cell_type": "code",
   "execution_count": 23,
   "metadata": {},
   "outputs": [],
   "source": [
    "Temperature_df=pd.DataFrame(Temperature)\n",
    "Temperature_df.drop_duplicates(inplace=True)\n",
    "os.chdir('D:\\Sunny_Personal\\OSU MSBA\\Fall 2019\\Symposium\\Border-Traffic')\n",
    "Temperature_df.to_csv('.csv',index=False)"
   ]
  },
  {
   "cell_type": "code",
   "execution_count": 28,
   "metadata": {},
   "outputs": [],
   "source": []
  },
  {
   "cell_type": "code",
   "execution_count": 29,
   "metadata": {},
   "outputs": [
    {
     "data": {
      "text/plain": [
       "(561, 6)"
      ]
     },
     "execution_count": 29,
     "metadata": {},
     "output_type": "execute_result"
    }
   ],
   "source": [
    "Temperature_df.shape"
   ]
  },
  {
   "cell_type": "code",
   "execution_count": 16,
   "metadata": {},
   "outputs": [
    {
     "name": "stderr",
     "output_type": "stream",
     "text": [
      "C:\\Users\\sunny\\Anaconda3\\lib\\site-packages\\ipykernel_launcher.py:1: SettingWithCopyWarning: \n",
      "A value is trying to be set on a copy of a slice from a DataFrame\n",
      "\n",
      "See the caveats in the documentation: http://pandas.pydata.org/pandas-docs/stable/indexing.html#indexing-view-versus-copy\n",
      "  \"\"\"Entry point for launching an IPython kernel.\n"
     ]
    }
   ],
   "source": [
    "Temperature_df_1.drop_duplicates(inplace=True)"
   ]
  },
  {
   "cell_type": "code",
   "execution_count": 36,
   "metadata": {},
   "outputs": [
    {
     "data": {
      "text/plain": [
       "(561, 6)"
      ]
     },
     "execution_count": 36,
     "metadata": {},
     "output_type": "execute_result"
    }
   ],
   "source": [
    "Temperature_df.shape"
   ]
  },
  {
   "cell_type": "code",
   "execution_count": 14,
   "metadata": {},
   "outputs": [],
   "source": [
    "Temperature_df=Temperature_df[Temperature_df[0]!='2011-9']"
   ]
  },
  {
   "cell_type": "code",
   "execution_count": 32,
   "metadata": {},
   "outputs": [],
   "source": []
  },
  {
   "cell_type": "code",
   "execution_count": null,
   "metadata": {},
   "outputs": [],
   "source": []
  },
  {
   "cell_type": "code",
   "execution_count": null,
   "metadata": {},
   "outputs": [],
   "source": []
  }
 ],
 "metadata": {
  "kernelspec": {
   "display_name": "Python 3",
   "language": "python",
   "name": "python3"
  },
  "language_info": {
   "codemirror_mode": {
    "name": "ipython",
    "version": 3
   },
   "file_extension": ".py",
   "mimetype": "text/x-python",
   "name": "python",
   "nbconvert_exporter": "python",
   "pygments_lexer": "ipython3",
   "version": "3.7.1"
  }
 },
 "nbformat": 4,
 "nbformat_minor": 2
}
